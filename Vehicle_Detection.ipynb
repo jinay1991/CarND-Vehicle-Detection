{
 "cells": [
  {
   "cell_type": "markdown",
   "metadata": {},
   "source": [
    "# Vehicle Detection Project\n",
    "\n",
    "The goals / steps of this project are the following:\n",
    "\n",
    "* Perform a Histogram of Oriented Gradients (HOG) feature extraction on a labeled training set of images and train a classifier Linear SVM classifier\n",
    "* Optionally, you can also apply a color transform and append binned color features, as well as histograms of color, to your HOG feature vector. \n",
    "* Note: for those first two steps don't forget to normalize your features and randomize a selection for training and testing.\n",
    "* Implement a sliding-window technique and use your trained classifier to search for vehicles in images.\n",
    "* Run your pipeline on a video stream (start with the test_video.mp4 and later implement on full project_video.mp4) and create a heat map of recurring detections frame by frame to reject outliers and follow detected vehicles.\n",
    "* Estimate a bounding box for vehicles detected.\n",
    "\n",
    "[//]: # (Image References)\n",
    "[image1]:./examples/car_not_car.png\n",
    "[image2]:./examples/HOG_example.jpg\n",
    "[image3]:./examples/sliding_windows.jpg\n",
    "[image4]:./examples/sliding_window.jpg\n",
    "[image5]:./examples/bboxes_and_heat.png\n",
    "[image6]:./examples/labels_map.png\n",
    "[image7]:./examples/output_bboxes.png\n",
    "[video1]:./project_video.mp4\n",
    "\n",
    "## [Rubric](https://review.udacity.com/#!/rubrics/513/view) Points\n",
    "\n",
    "### Here I will consider the rubric points individually and describe how I addressed each point in my implementation.  "
   ]
  },
  {
   "cell_type": "markdown",
   "metadata": {},
   "source": [
    "#### Helper Functions"
   ]
  },
  {
   "cell_type": "code",
   "execution_count": null,
   "metadata": {},
   "outputs": [],
   "source": [
    "import cv2\n",
    "import os\n",
    "import glob\n",
    "import numpy as np \n",
    "import matplotlib.pyplot as plt\n",
    "from skimage.feature import hog\n",
    "\n",
    "% matplotlib inline\n",
    "\n",
    "def showImages(images, cols = 4, rows = 5, figsize=(15, 10), cmap = None):\n",
    "    \"\"\"\n",
    "    Display `images` on a [`cols`, `rows`] subplot grid.\n",
    "    \"\"\"\n",
    "    imgLength = len(images)\n",
    "    fig, axes = plt.subplots(rows, cols, figsize=figsize)\n",
    "    fig.tight_layout()\n",
    "    \n",
    "    indexes = range(cols * rows)\n",
    "    for ax, index in zip(axes.flat, indexes):\n",
    "        if index < imgLength:\n",
    "            imagePathName, image = images[index]\n",
    "            if len(image.shape) > 2:# cmap == None:\n",
    "                ax.imshow(image)\n",
    "            else:\n",
    "                ax.imshow(image, cmap='gray')\n",
    "            ax.set_title(imagePathName)\n",
    "            ax.axis('off')\n",
    "            \n",
    "    plt.subplots_adjust(left=0., right=1, top=0.9, bottom=0.)\n",
    "\n",
    "testImage = cv2.imread(\"test_images/test1.jpg\")\n",
    "testImage = cv2.cvtColor(testImage, cv2.COLOR_BGR2RGB)\n",
    "\n",
    "plt.imshow(testImage)"
   ]
  },
  {
   "cell_type": "markdown",
   "metadata": {},
   "source": [
    "#### Helper Functions\n",
    "\n",
    "Below are the helper functions from the Lecture"
   ]
  },
  {
   "cell_type": "code",
   "execution_count": null,
   "metadata": {},
   "outputs": [],
   "source": [
    "from lesson_functions import extract_features, get_hog_features, slide_window, search_windows, draw_boxes"
   ]
  },
  {
   "cell_type": "code",
   "execution_count": null,
   "metadata": {},
   "outputs": [],
   "source": [
    "DATASET_ROOT = os.path.join(os.path.expanduser(\"~\"), \"workspace\", \"datasets\", \"vehicle_detection\")\n",
    "VEHICLE_IMAGEDIR = os.path.join(DATASET_ROOT, \"vehicles\")\n",
    "NONVEHICLE_IMAGEDIR = os.path.join(DATASET_ROOT, \"non-vehicles\")\n",
    "\n",
    "assert os.path.exists(VEHICLE_IMAGEDIR), \"Vehicle image dataset not found at %s\" % (VEHICLE_IMAGEDIR)\n",
    "assert os.path.exists(NONVEHICLE_IMAGEDIR), \"Vehicle image dataset not found at %s\" % (NONVEHICLE_IMAGEDIR)\n",
    "\n",
    "\n",
    "vehicleImageList = glob.glob(os.path.join(VEHICLE_IMAGEDIR, \"*/*.png\"))\n",
    "nonvehicleImageList = glob.glob(os.path.join(NONVEHICLE_IMAGEDIR, \"*/*.png\"))\n",
    "\n",
    "print(\"Number of images in class vehicle: %s\" % (len(vehicleImageList)))\n",
    "print(\"Number of images in class non-vehicle: %s\" % (len(nonvehicleImageList)))\n",
    "\n",
    "import random\n",
    "random.seed(10)\n",
    "randindex = random.randint(0, len(vehicleImageList))\n",
    "\n",
    "sampleVehicleImage = cv2.imread(vehicleImageList[randindex])\n",
    "sampleNonVehicleImage = cv2.imread(nonvehicleImageList[randindex])\n",
    "\n",
    "showImages([(\"vehicle\", sampleVehicleImage), (\"nonvehicle\", sampleNonVehicleImage)], 2, 1, figsize=(5, 2))"
   ]
  },
  {
   "cell_type": "markdown",
   "metadata": {},
   "source": [
    "---\n",
    "### Writeup / README\n",
    "\n",
    "#### 1. Provide a Writeup / README that includes all the rubric points and how you addressed each one.  You can submit your writeup as markdown or pdf.  [Here](https://github.com/udacity/CarND-Vehicle-Detection/blob/master/writeup_template.md) is a template writeup for this project you can use as a guide and a starting point.  \n",
    "\n",
    "You're reading it!"
   ]
  },
  {
   "cell_type": "markdown",
   "metadata": {},
   "source": [
    "### Histogram of Oriented Gradients (HOG)\n",
    "\n",
    "#### 1. Explain how (and identify where in your code) you extracted HOG features from the training images.\n",
    "\n",
    "The code for this step is contained in the first code cell of the IPython notebook (or in lines # through # of the file called `some_file.py`).  \n",
    "\n",
    "I started by reading in all the `vehicle` and `non-vehicle` images.  Here is an example of one of each of the `vehicle` and `non-vehicle` classes:\n",
    "\n",
    "![alt text][image1]\n",
    "\n",
    "I then explored different color spaces and different `skimage.hog()` parameters (`orientations`, `pixels_per_cell`, and `cells_per_block`).  I grabbed random images from each of the two classes and displayed them to get a feel for what the `skimage.hog()` output looks like.\n",
    "\n",
    "Here is an example using the `YCrCb` color space and HOG parameters of `orientations=8`, `pixels_per_cell=(8, 8)` and `cells_per_block=(2, 2)`:\n",
    "\n",
    "\n",
    "![alt text][image2]"
   ]
  },
  {
   "cell_type": "code",
   "execution_count": null,
   "metadata": {
    "scrolled": true
   },
   "outputs": [],
   "source": [
    "sampleVehicleYCrCbImage = cv2.cvtColor(sampleVehicleImage, cv2.COLOR_BGR2YCrCb)\n",
    "\n",
    "sampleHogFeatures, sampleHogVis = get_hog_features(sampleVehicleYCrCbImage[:,:,0], orient=8, \n",
    "                                                   pix_per_cell=8, cell_per_block=2, \n",
    "                                                   vis=True, feature_vec=True)\n",
    "\n",
    "sampleNonVehicleYCrCbImage = cv2.cvtColor(sampleNonVehicleImage, cv2.COLOR_BGR2YCrCb)\n",
    "\n",
    "sampleHogFeatures2, sampleHogVis2 = get_hog_features(sampleNonVehicleYCrCbImage[:,:,0], orient=8, \n",
    "                                                     pix_per_cell=8, cell_per_block=2, \n",
    "                                                     vis=True, feature_vec=True)\n",
    "showImages([(\"vehicle\", sampleVehicleImage), (\"hog-vechile\", sampleHogVis), \n",
    "            (\"non-vehicle\", sampleNonVehicleImage), (\"hog-nonvehicle\", sampleHogVis2)], 4, 1, figsize=(15, 5))"
   ]
  },
  {
   "cell_type": "markdown",
   "metadata": {},
   "source": [
    "#### 2. Explain how you settled on your final choice of HOG parameters.\n",
    "\n",
    "I tried various combinations of parameters and..."
   ]
  },
  {
   "cell_type": "markdown",
   "metadata": {},
   "source": [
    "#### 3. Describe how (and identify where in your code) you trained a classifier using your selected HOG features (and color features if you used them).\n",
    "\n",
    "I trained a linear SVM using...\n"
   ]
  },
  {
   "cell_type": "code",
   "execution_count": null,
   "metadata": {
    "scrolled": true
   },
   "outputs": [],
   "source": [
    "car_features = extract_features(vehicleImageList, color_space='YUV', hog_channel='ALL')\n",
    "notcar_features = extract_features(nonvehicleImageList, color_space='YUV', hog_channel='ALL')"
   ]
  },
  {
   "cell_type": "code",
   "execution_count": null,
   "metadata": {},
   "outputs": [],
   "source": [
    "from sklearn.model_selection import train_test_split\n",
    "from sklearn.svm import LinearSVC\n",
    "from sklearn.preprocessing import StandardScaler\n",
    "\n",
    "X = np.vstack((car_features, notcar_features)).astype(np.float64)  \n",
    "X_scaler = StandardScaler().fit(X)\n",
    "\n",
    "scaled_X = X_scaler.transform(X)\n",
    "\n",
    "y = np.hstack((np.ones(len(car_features)), np.zeros(len(notcar_features))))\n",
    "# Split up data into randomized training and test sets\n",
    "rand_state = np.random.randint(0, 100)\n",
    "X_train, X_test, y_train, y_test = train_test_split(scaled_X, y, test_size=0.2, random_state=rand_state)"
   ]
  },
  {
   "cell_type": "code",
   "execution_count": null,
   "metadata": {},
   "outputs": [],
   "source": [
    "import time\n",
    "\n",
    "# load classifier LinearSVC\n",
    "svc = LinearSVC()\n",
    "startTime = time.time()\n",
    "\n",
    "svc.fit(X_train, y_train)\n",
    "\n",
    "print(round(time.time() - startTime, 2), 'Seconds to train SVC...')\n",
    "print('Test Accuracy of SVC = ', round(svc.score(X_test, y_test), 4))\n"
   ]
  },
  {
   "cell_type": "markdown",
   "metadata": {},
   "source": [
    "### Sliding Window Search\n",
    "\n",
    "#### 1. Describe how (and identify where in your code) you implemented a sliding window search.  How did you decide what scales to search and how much to overlap windows?\n",
    "\n",
    "I decided to search random window positions at random scales all over the image and came up with this (ok just kidding I didn't actually ;):\n",
    "\n",
    "![alt text][image3]"
   ]
  },
  {
   "cell_type": "code",
   "execution_count": null,
   "metadata": {},
   "outputs": [],
   "source": [
    "image = cv2.imread(\"test_images/test1.jpg\")\n",
    "image = cv2.cvtColor(image, cv2.COLOR_BGR2RGB)\n",
    "\n",
    "windows = slide_window(image, x_start_stop=[None, None], y_start_stop=[int(image.shape[0] * 0.55), int(image.shape[0] * 0.95)], \n",
    "                       xy_window=(64, 64), xy_overlap=(0.5, 0.5))\n",
    "                       \n",
    "window_img = draw_boxes(image, windows, color=(0, 0, 255), thick=6)                    \n",
    "plt.imshow(window_img)"
   ]
  },
  {
   "cell_type": "code",
   "execution_count": null,
   "metadata": {},
   "outputs": [],
   "source": [
    "#windows = slide_window(image, x_start_stop=[None, None], y_start_stop=[int(image.shape[0] * 0.55), int(image.shape[0] * 0.95)], \n",
    "#                    xy_window=(96, 96), xy_overlap=(0.5, 0.5))\n",
    "\n",
    "hot_windows = search_windows(image, windows, svc, X_scaler, color_space='YUV', \n",
    "                             spatial_size=(32, 32), hist_bins=256, \n",
    "                             orient=9, pix_per_cell=8, \n",
    "                             cell_per_block=2, \n",
    "                             hog_channel=2, spatial_feat=True, \n",
    "                             hist_feat=True, hog_feat=True)           \n",
    "\n",
    "window_img = draw_boxes(draw_image, hot_windows, color=(0, 0, 255), thick=6)\n",
    "\n",
    "plt.imshow(window_img)\n"
   ]
  },
  {
   "cell_type": "markdown",
   "metadata": {},
   "source": [
    "#### 2. Show some examples of test images to demonstrate how your pipeline is working.  What did you do to optimize the performance of your classifier?\n",
    "\n",
    "Ultimately I searched on two scales using YCrCb 3-channel HOG features plus spatially binned color and histograms of color in the feature vector, which provided a nice result.  Here are some example images:\n",
    "\n",
    "![alt text][image4]\n",
    "\n"
   ]
  },
  {
   "cell_type": "code",
   "execution_count": null,
   "metadata": {},
   "outputs": [],
   "source": [
    "from scipy.ndimage.measurements import label\n",
    "\n",
    "\n",
    "def add_heat(heatmap, bbox_list):\n",
    "    for box in bbox_list:\n",
    "        heatmap[box[0][1]:box[1][1], box[0][0]:box[1][0]] += 1\n",
    "    return heatmap\n",
    "\n",
    "def apply_threshold(heatmap, threshold):\n",
    "    heatmap[heatmap <= threshold] = 0\n",
    "    return heatmap\n",
    "\n",
    "def draw_labeled_bboxes(img, labels):\n",
    "    for car_number in range(1, labels[1]+1):\n",
    "        # Find pixels with each car_number label value\n",
    "        nonzero = (labels[0] == car_number).nonzero()\n",
    "        # Identify x and y values of those pixels\n",
    "        nonzeroy = np.array(nonzero[0])\n",
    "        nonzerox = np.array(nonzero[1])\n",
    "        # Define a bounding box based on min/max x and y\n",
    "        bbox = ((np.min(nonzerox), np.min(nonzeroy)), (np.max(nonzerox), np.max(nonzeroy)))\n",
    "        # Draw the box on the image\n",
    "        cv2.rectangle(img, bbox[0], bbox[1], (0,0,255), 6)\n",
    "    # Return the image\n",
    "    return img\n",
    "\n",
    "heat = np.zeros_like(sampleVehicleImage[:,:,0]).astype(np.float)\n",
    "# Add heat to each box in box list\n",
    "heat = add_heat(heat, bboxes)\n",
    "\n",
    "# Apply threshold to help remove false positives\n",
    "threshold = 1\n",
    "heat = apply_threshold(heat, threshold)\n",
    "\n",
    "# Visualize the heatmap when displaying    \n",
    "heatmap = np.clip(heat, 0, 255)\n",
    "\n",
    "# Find final boxes from heatmap using label function\n",
    "labels = label(heatmap)\n",
    "draw_img = draw_labeled_bboxes(np.copy(image), labels)"
   ]
  },
  {
   "cell_type": "markdown",
   "metadata": {},
   "source": [
    "---\n",
    "### Video Implementation\n",
    "\n",
    "#### 1. Provide a link to your final video output.  Your pipeline should perform reasonably well on the entire project video (somewhat wobbly or unstable bounding boxes are ok as long as you are identifying the vehicles most of the time with minimal false positives.)\n",
    "\n",
    "Here's a [link to my video result](./project_video.mp4)"
   ]
  },
  {
   "cell_type": "markdown",
   "metadata": {},
   "source": [
    "#### 2. Describe how (and identify where in your code) you implemented some kind of filter for false positives and some method for combining overlapping bounding boxes.\n",
    "\n",
    "I recorded the positions of positive detections in each frame of the video.  From the positive detections I created a heatmap and then thresholded that map to identify vehicle positions.  I then used `scipy.ndimage.measurements.label()` to identify individual blobs in the heatmap.  I then assumed each blob corresponded to a vehicle.  I constructed bounding boxes to cover the area of each blob detected.  \n",
    "\n",
    "Here's an example result showing the heatmap from a series of frames of video, the result of `scipy.ndimage.measurements.label()` and the bounding boxes then overlaid on the last frame of video:"
   ]
  },
  {
   "cell_type": "markdown",
   "metadata": {},
   "source": [
    "### Here are six frames and their corresponding heatmaps:\n",
    "\n",
    "![alt text][image5]"
   ]
  },
  {
   "cell_type": "markdown",
   "metadata": {},
   "source": [
    "### Here is the output of `scipy.ndimage.measurements.label()` on the integrated heatmap from all six frames:\n",
    "![alt text][image6]\n"
   ]
  },
  {
   "cell_type": "markdown",
   "metadata": {},
   "source": [
    "### Here the resulting bounding boxes are drawn onto the last frame in the series:\n",
    "![alt text][image7]"
   ]
  },
  {
   "cell_type": "markdown",
   "metadata": {},
   "source": [
    "---\n",
    "\n",
    "### Discussion\n",
    "\n",
    "#### 1. Briefly discuss any problems / issues you faced in your implementation of this project.  Where will your pipeline likely fail?  What could you do to make it more robust?\n",
    "\n",
    "Here I'll talk about the approach I took, what techniques I used, what worked and why, where the pipeline might fail and how I might improve it if I were going to pursue this project further.  \n"
   ]
  },
  {
   "cell_type": "markdown",
   "metadata": {},
   "source": [
    "---\n",
    "### Extras\n",
    "\n",
    "#### 1. Perform Object Detection with modern approach of Deep Learning\n",
    "\n",
    "As for recent trends, Deep Leanring is outperforming Traditional Computer Vision methods in complex tasks of Classification and Object Detections.\n",
    "\n",
    "Here as part of assignment I thought to analyzing it by myself and get myself convinced how Deep Learning models outperform Computer Vision approach described above.\n",
    "\n",
    "For this I mainly consume, TensorFlow(TM) for inferencing pretrained model for Object Detection and model called Single Shot Detection trained on MSCOCO dataset having MobileNetv2 Architecture for classification block."
   ]
  },
  {
   "cell_type": "code",
   "execution_count": null,
   "metadata": {},
   "outputs": [],
   "source": [
    "import os\n",
    "import cv2\n",
    "import tensorflow as tf\n",
    "\n",
    "print(\"OpenCV version: %s\" % (cv2.__version__))\n",
    "print(\"TensorFlow version: %s\" % tf.__version__)"
   ]
  },
  {
   "cell_type": "code",
   "execution_count": null,
   "metadata": {},
   "outputs": [],
   "source": [
    "from six.moves import urllib\n",
    "import tarfile\n",
    "import sys\n",
    "\n",
    "def maybe_download_and_extract(data_url, clean_dir=False):\n",
    "    \"\"\"\n",
    "    Download and extract model tar file.\n",
    "\n",
    "    If the pretrained model we're using doesn't already exist, this function\n",
    "    downloads it from the TensorFlow.org website and unpacks it into a directory.\n",
    "\n",
    "    Args:\n",
    "        data_url: Web location of the tar file containing the pretrained model.\n",
    "\n",
    "    Returns:\n",
    "        dest_directory: Destination directory where files were extracted\n",
    "    \"\"\"\n",
    "    dest_directory = os.path.join(os.path.abspath(os.path.curdir), \"tmp\")\n",
    "    if not os.path.exists(dest_directory):\n",
    "        os.makedirs(dest_directory)\n",
    "    if clean_dir:\n",
    "        for item in os.listdir(dest_directory):\n",
    "            if item.endswith(\".pb\") or item.endswith(\".txt\"):\n",
    "                os.remove(os.path.join(dest_directory, item))\n",
    "\n",
    "    filename = data_url.split('/')[-1]\n",
    "    filepath = os.path.join(dest_directory, filename)\n",
    "    if not os.path.exists(filepath):\n",
    "\n",
    "        def _progress(count, block_size, total_size):\n",
    "            sys.stdout.write('\\r>> Downloading %s %.1f%%' %\n",
    "                             (filename,\n",
    "                              float(count * block_size) / float(total_size) * 100.0))\n",
    "            sys.stdout.flush()\n",
    "\n",
    "        filepath, _ = urllib.request.urlretrieve(data_url, filepath, _progress)\n",
    "        print(\"\")\n",
    "        statinfo = os.stat(filepath)\n",
    "        print('Successfully downloaded %s %d bytes.' % (filename, statinfo.st_size))\n",
    "    else:\n",
    "        print('Not downloading files, model gzip already present in disk')\n",
    "\n",
    "    print('Extracting file from %s' % filepath)\n",
    "    tarfile.open(filepath, 'r:gz').extractall(dest_directory)\n",
    "    return dest_directory\n",
    "\n",
    "# Download SSD MobileNet v2 COCO trained model available from TensorFlow Model Zoo\n",
    "maybe_download_and_extract(\"http://download.tensorflow.org/models/object_detection/ssd_mobilenet_v2_coco_2018_03_29.tar.gz\")"
   ]
  },
  {
   "cell_type": "markdown",
   "metadata": {},
   "source": [
    "##### Load Pretrained Graph"
   ]
  },
  {
   "cell_type": "code",
   "execution_count": null,
   "metadata": {},
   "outputs": [],
   "source": [
    "# load pretrained graph using TF api\n",
    "with tf.gfile.GFile(\"tmp/ssd_mobilenet_v2_coco_2018_03_29/frozen_inference_graph.pb\", \"rb\") as fp:\n",
    "    graph_def = tf.GraphDef()\n",
    "    graph_def.ParseFromString(fp.read())\n",
    "    \n",
    "with tf.Graph().as_default() as graph:\n",
    "    tf.import_graph_def(graph_def)\n",
    "    \n",
    "tensor_names = [op.name for op in graph.get_operations()]\n",
    "print(\"first 5 layers:\\n\", tensor_names[:5], \"\\nlast 5 layers:\\n\", tensor_names[-5:])"
   ]
  },
  {
   "cell_type": "code",
   "execution_count": null,
   "metadata": {},
   "outputs": [],
   "source": [
    "# Obtain Tensor object fetched from it's name in graph\n",
    "image_tensor = graph.get_tensor_by_name(\"import/image_tensor:0\")  # input image placeholder\n",
    "detection_boxes = graph.get_tensor_by_name(\"import/detection_boxes:0\")  # bounding boxes (ymin, xmin, ymax, xmax)\n",
    "detection_scores = graph.get_tensor_by_name(\"import/detection_scores:0\")  # score (float)\n",
    "detection_classes = graph.get_tensor_by_name(\"import/detection_classes:0\")  # classid (int)\n",
    "num_detections = graph.get_tensor_by_name(\"import/num_detections:0\")  # number of detections"
   ]
  },
  {
   "cell_type": "markdown",
   "metadata": {},
   "source": [
    "##### Infer image"
   ]
  },
  {
   "cell_type": "code",
   "execution_count": null,
   "metadata": {},
   "outputs": [],
   "source": [
    "import numpy as np\n",
    "# Inference on test image\n",
    "img = cv2.imread(\"test_images/test1.jpg\")\n",
    "with tf.Session(graph=graph) as sess:\n",
    "    boxes, scores, classes, n = sess.run([detection_boxes, detection_scores, detection_classes, num_detections], \n",
    "                                          feed_dict={image_tensor: np.expand_dims(img, axis=0)})\n",
    "boxes = np.squeeze(boxes)\n",
    "scores = np.squeeze(scores)\n",
    "classes = np.squeeze(classes).astype(np.int32)\n",
    "n = np.squeeze(n).astype(np.int32)\n",
    "print(boxes.shape)\n",
    "print(scores.shape)\n",
    "print(classes.shape)\n",
    "print(n)"
   ]
  },
  {
   "cell_type": "markdown",
   "metadata": {},
   "source": [
    "##### Draw Bounding Boxes"
   ]
  },
  {
   "cell_type": "code",
   "execution_count": null,
   "metadata": {},
   "outputs": [],
   "source": [
    "# Draw boxes on image\n",
    "vis = img.copy()\n",
    "height, width = vis.shape[:2]\n",
    "\n",
    "for i in range(boxes.shape[0]):\n",
    "    classid = classes[i] - 1\n",
    "\n",
    "    if scores[i] > 0.25:    \n",
    "        ymin, xmin, ymax, xmax = boxes[i]\n",
    "        \n",
    "        x1 = int(xmin * width)\n",
    "        y1 = int(ymin * height)\n",
    "        x2 = int(xmax * width)\n",
    "        y2 = int(ymin * height)\n",
    "    \n",
    "        cv2.rectangle(vis, (x1, y1), (x2, y2), (255, 0, 100), 4)"
   ]
  },
  {
   "cell_type": "code",
   "execution_count": null,
   "metadata": {},
   "outputs": [],
   "source": [
    "showImages([(\"image\", img), (\"result\", vis)], 2, 1)"
   ]
  },
  {
   "cell_type": "code",
   "execution_count": null,
   "metadata": {},
   "outputs": [],
   "source": []
  }
 ],
 "metadata": {
  "kernelspec": {
   "display_name": "Python 3",
   "language": "python",
   "name": "python3"
  },
  "language_info": {
   "codemirror_mode": {
    "name": "ipython",
    "version": 3
   },
   "file_extension": ".py",
   "mimetype": "text/x-python",
   "name": "python",
   "nbconvert_exporter": "python",
   "pygments_lexer": "ipython3",
   "version": "3.5.2"
  }
 },
 "nbformat": 4,
 "nbformat_minor": 2
}
